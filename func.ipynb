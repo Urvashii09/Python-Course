{
 "cells": [
  {
   "attachments": {},
   "cell_type": "markdown",
   "metadata": {},
   "source": [
    "# syntax\n",
    "\n",
    "def func_name(<parameters...>):\n",
    "statement 1\n",
    "statement 2\n",
    "...\n",
    "statement n\n",
    "<return values...>\n",
    "\n",
    "calling a function\n",
    "func_name(<parameters...>)"
   ]
  },
  {
   "cell_type": "code",
   "execution_count": 2,
   "metadata": {},
   "outputs": [],
   "source": [
    "def greetings():\n",
    "    print('Welcome to the function')\n",
    "    print('Hope you are happy')\n",
    "    print('have a nice day')"
   ]
  },
  {
   "cell_type": "code",
   "execution_count": 4,
   "metadata": {},
   "outputs": [
    {
     "name": "stdout",
     "output_type": "stream",
     "text": [
      "Welcome to the function\n",
      "Hope you are happy\n",
      "have a nice day\n"
     ]
    }
   ],
   "source": [
    "greetings()"
   ]
  },
  {
   "cell_type": "code",
   "execution_count": 5,
   "metadata": {},
   "outputs": [
    {
     "name": "stdout",
     "output_type": "stream",
     "text": [
      "Welcome to the function\n",
      "Hope you are happy\n",
      "have a nice day\n",
      "None\n"
     ]
    }
   ],
   "source": [
    "ans = greetings()\n",
    "print(ans)"
   ]
  },
  {
   "cell_type": "code",
   "execution_count": 10,
   "metadata": {},
   "outputs": [],
   "source": [
    "def random3():\n",
    "    from random import choices\n",
    "    value = list('🙂✨😒🤗😑😏🙊🙈🙉🐶😻🐼🐻🎆🎀')\n",
    "    return \" \".join(choices(value, k=3))"
   ]
  },
  {
   "cell_type": "code",
   "execution_count": 11,
   "metadata": {},
   "outputs": [
    {
     "data": {
      "text/plain": [
       "'🐻 😒 🐶'"
      ]
     },
     "execution_count": 11,
     "metadata": {},
     "output_type": "execute_result"
    }
   ],
   "source": [
    "random3()"
   ]
  },
  {
   "cell_type": "code",
   "execution_count": 12,
   "metadata": {},
   "outputs": [
    {
     "name": "stdout",
     "output_type": "stream",
     "text": [
      "✨ 🙂 🐶\n",
      "🙈 🤗 🙈\n",
      "🐼 😻 🙊\n",
      "😏 🙂 🐼\n",
      "😻 🙊 🙉\n",
      "🤗 🙂 🙊\n",
      "🎆 😏 🐼\n",
      "🐻 😏 😑\n",
      "🐼 🎀 🐶\n",
      "🎀 😻 😒\n"
     ]
    }
   ],
   "source": [
    "for i in range(10):\n",
    "    print(random3())"
   ]
  },
  {
   "cell_type": "code",
   "execution_count": 18,
   "metadata": {},
   "outputs": [],
   "source": [
    "def random10():\n",
    "    from random import choices\n",
    "    value = list('😊🥰😍😎👻💀🥳🤧🧸🍕🍩🍨🍫🌺🌹🥀🌼🌷💐🌸🍨🌼🌼🌷🌷👁️')\n",
    "    return \" \".join(choices(value, k=10))"
   ]
  },
  {
   "cell_type": "code",
   "execution_count": 19,
   "metadata": {},
   "outputs": [
    {
     "data": {
      "text/plain": [
       "'🌷 🧸 🌷 🌼 🧸 🌹 💀 🥳 😎 💀'"
      ]
     },
     "execution_count": 19,
     "metadata": {},
     "output_type": "execute_result"
    }
   ],
   "source": [
    "random10()"
   ]
  },
  {
   "cell_type": "code",
   "execution_count": 20,
   "metadata": {},
   "outputs": [
    {
     "name": "stdout",
     "output_type": "stream",
     "text": [
      "🤧 🌷 😍 💀 🌹 🍨 🌷 🌷 🌼 🤧\n",
      "🌸 💐 🌼 🥀 😎 🌼 💐 😍 🍨 👻\n",
      "🌼 🌸 🌼 🧸 🥰 ️ 👁 ️ 👻 🧸\n",
      "💐 😍 😍 🌷 🌷 ️ 👁 🤧 🥀 🌼\n",
      "🥀 👻 🌼 😍 🍕 🌷 🍫 💐 🍨 🌷\n",
      "😊 🌺 💀 🌷 🌷 🍨 🌼 🧸 🍩 🌼\n",
      "🍫 🍨 👁 🌷 👻 🍨 🍩 🌷 🌼 🌹\n",
      "🍕 ️ 🌷 🤧 🥳 🌼 🥀 🌼 💀 🍩\n",
      "👁 🍩 🍫 🍨 🌷 💀 😊 🍨 🌹 🥳\n",
      "🍨 ️ 🍫 👻 🍫 🌷 🌷 🌼 👻 🌼\n"
     ]
    }
   ],
   "source": [
    "for i in range(10):\n",
    "    print(random10())    "
   ]
  }
 ],
 "metadata": {
  "kernelspec": {
   "display_name": "base",
   "language": "python",
   "name": "python3"
  },
  "language_info": {
   "codemirror_mode": {
    "name": "ipython",
    "version": 3
   },
   "file_extension": ".py",
   "mimetype": "text/x-python",
   "name": "python",
   "nbconvert_exporter": "python",
   "pygments_lexer": "ipython3",
   "version": "3.10.8"
  },
  "orig_nbformat": 4,
  "vscode": {
   "interpreter": {
    "hash": "d352f530d35ba9a8cbd74dc54ae14fe97a35856bed16a2f3b615ca61b68e7fcb"
   }
  }
 },
 "nbformat": 4,
 "nbformat_minor": 2
}
