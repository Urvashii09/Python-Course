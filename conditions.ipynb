{
 "cells": [
  {
   "attachments": {},
   "cell_type": "markdown",
   "metadata": {},
   "source": [
    "# Conditions"
   ]
  },
  {
   "cell_type": "code",
   "execution_count": 2,
   "metadata": {},
   "outputs": [
    {
     "name": "stdout",
     "output_type": "stream",
     "text": [
      "You are going to run this part\n",
      "You are going to see this also...\n"
     ]
    }
   ],
   "source": [
    "count = int(input(\"enter a value: \"))\n",
    "if count > 5:\n",
    "    print(\"You are going to run this part\")\n",
    "\n",
    "if count > 15:\n",
    "    print(\"You are going to see this also...\")\n",
    "    \n",
    "if count%2 == 0:\n",
    "    print(\"Count is even\")"
   ]
  },
  {
   "attachments": {},
   "cell_type": "markdown",
   "metadata": {},
   "source": [
    "# multiple conditions in an if statement"
   ]
  },
  {
   "cell_type": "code",
   "execution_count": 3,
   "metadata": {},
   "outputs": [
    {
     "name": "stdout",
     "output_type": "stream",
     "text": [
      "7 is greater\n"
     ]
    }
   ],
   "source": [
    "a = 6\n",
    "b = 5\n",
    "c = 7\n",
    "\n",
    "if a > b and b > c:\n",
    "    print(f'{a} is greater')\n",
    "if b > a and b > c:\n",
    "    print(f'{b} is greater')\n",
    "if c > a and c > b:\n",
    "    print(f'{c} is greater')"
   ]
  },
  {
   "cell_type": "code",
   "execution_count": 5,
   "metadata": {},
   "outputs": [
    {
     "name": "stdout",
     "output_type": "stream",
     "text": [
      "c=7 is greater\n"
     ]
    }
   ],
   "source": [
    "if a > b and a > c:\n",
    "    print(f'{a=} is greater')\n",
    "elif b > a and b > c:\n",
    "    print(f'{b=} is greater')\n",
    "elif c > a and c > b:\n",
    "    print(f'{c=} is greater')"
   ]
  },
  {
   "cell_type": "code",
   "execution_count": 6,
   "metadata": {},
   "outputs": [
    {
     "name": "stdout",
     "output_type": "stream",
     "text": [
      "Hurray 🥳\n"
     ]
    }
   ],
   "source": [
    "username = input(\"Enter your name: \")\n",
    "email = input(\"Enter your email: \")\n",
    "pwd = input(\"Enter your password: \")\n",
    "pwd2 = input(\"Confirm your password\")\n",
    "\n",
    "\n",
    "if len(username) >= 4 and len(username) <= 15:\n",
    "    if '@' in email and email.islower() and len(email) > 10:\n",
    "        if len(pwd) >= 6 and pwd != username:\n",
    "            if pwd == pwd2:\n",
    "                print(\"Hurray 🥳\")\n",
    "            else:\n",
    "                print(\"passwords do not match 🙂\")\n",
    "        else:\n",
    "            print(\"Password is invalid🙂\")\n",
    "    else:\n",
    "        print(\"Email is invalid🙂\")\n",
    "else:\n",
    "    print(\"Username is invalid🙂\")"
   ]
  }
 ],
 "metadata": {
  "kernelspec": {
   "display_name": "base",
   "language": "python",
   "name": "python3"
  },
  "language_info": {
   "codemirror_mode": {
    "name": "ipython",
    "version": 3
   },
   "file_extension": ".py",
   "mimetype": "text/x-python",
   "name": "python",
   "nbconvert_exporter": "python",
   "pygments_lexer": "ipython3",
   "version": "3.10.8"
  },
  "orig_nbformat": 4,
  "vscode": {
   "interpreter": {
    "hash": "d352f530d35ba9a8cbd74dc54ae14fe97a35856bed16a2f3b615ca61b68e7fcb"
   }
  }
 },
 "nbformat": 4,
 "nbformat_minor": 2
}
