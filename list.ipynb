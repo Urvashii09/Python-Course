{
 "cells": [
  {
   "attachments": {},
   "cell_type": "markdown",
   "metadata": {},
   "source": [
    "# Data Structures\n",
    "- list \n",
    "   - ordered , indexed , mutable , duplicates allowed , '[]'\n",
    "- tuple\n",
    "   - ordered , indexed ,**immutable** , duplicates allowed , '()'\n",
    "- set\n",
    "   - unordered , unindexed , mutable , **only unique elements** , '{}'\n",
    "- dictionary \n",
    "   - ordered , unindexed , mutable , key:value pairs, duplicates values allowed,'{}'"
   ]
  },
  {
   "cell_type": "code",
   "execution_count": 2,
   "metadata": {},
   "outputs": [
    {
     "name": "stdout",
     "output_type": "stream",
     "text": [
      "[]\n",
      "[2, 3, 4, 36, 73]\n",
      "[1, 'a', 2, 'b', 3, 'c']\n",
      "[1, 2, [3, 4], [5, 6]]\n"
     ]
    }
   ],
   "source": [
    "x = [] # empty list\n",
    "print(x)\n",
    "\n",
    "\n",
    "y =[2,3,4,36,73] # list of integers\n",
    "print(y)\n",
    "\n",
    "\n",
    "# list of mixed datatypes\n",
    "w = [1 , 'a' , 2 , 'b' , 3 ,'c']\n",
    "print(w)\n",
    "\n",
    "# nested list\n",
    "v = [1,2,[3,4],[5,6]] # 4 elements\n",
    "print(v)\n"
   ]
  },
  {
   "cell_type": "code",
   "execution_count": 3,
   "metadata": {},
   "outputs": [
    {
     "name": "stdout",
     "output_type": "stream",
     "text": [
      "[100]\n",
      "[2, 3, 4, 36, 73, 5]\n",
      "[2, 3, 4, 73, 5]\n",
      "[2, 3, 4, 73]\n",
      "[2, 3, 50, 4, 73]\n",
      "[100, 2, 3, 50, 4, 73]\n"
     ]
    }
   ],
   "source": [
    "x.append(100) # append 100 to the end of the list\n",
    "print(x)\n",
    "\n",
    "y.append(5)\n",
    "print(y)\n",
    "\n",
    "y.remove(36)\n",
    "print(y)\n",
    "\n",
    "y.pop() # remove last element\n",
    "print(y)\n",
    "\n",
    "y.insert(2 , 50) # insert 50 at index 2 (shift everything to the right)\n",
    "print(y)\n",
    "\n",
    "x.extend(y)\n",
    "print(x)"
   ]
  },
  {
   "cell_type": "code",
   "execution_count": 4,
   "metadata": {},
   "outputs": [
    {
     "name": "stdout",
     "output_type": "stream",
     "text": [
      "[73, 50, 4, 3, 2]\n"
     ]
    }
   ],
   "source": [
    "y.sort(reverse=True)\n",
    "print(y)"
   ]
  }
 ],
 "metadata": {
  "kernelspec": {
   "display_name": "base",
   "language": "python",
   "name": "python3"
  },
  "language_info": {
   "codemirror_mode": {
    "name": "ipython",
    "version": 3
   },
   "file_extension": ".py",
   "mimetype": "text/x-python",
   "name": "python",
   "nbconvert_exporter": "python",
   "pygments_lexer": "ipython3",
   "version": "3.10.8"
  },
  "orig_nbformat": 4,
  "vscode": {
   "interpreter": {
    "hash": "d352f530d35ba9a8cbd74dc54ae14fe97a35856bed16a2f3b615ca61b68e7fcb"
   }
  }
 },
 "nbformat": 4,
 "nbformat_minor": 2
}
